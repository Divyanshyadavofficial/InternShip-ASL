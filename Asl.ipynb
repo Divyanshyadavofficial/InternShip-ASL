{
 "cells": [
  {
   "cell_type": "markdown",
   "metadata": {},
   "source": [
    "Data\n"
   ]
  },
  {
   "cell_type": "code",
   "execution_count": 7,
   "metadata": {},
   "outputs": [],
   "source": [
    "import torchvision.transforms as transforms\n",
    "from torchvision.datasets import ImageFolder\n",
    "from torch.utils.data import DataLoader\n",
    "import numpy as np\n"
   ]
  },
  {
   "cell_type": "code",
   "execution_count": 3,
   "metadata": {},
   "outputs": [],
   "source": [
    "transform = transforms.Compose([\n",
    "    transforms.Resize((32, 32)),\n",
    "    transforms.ToTensor(),  \n",
    "])"
   ]
  },
  {
   "cell_type": "code",
   "execution_count": 4,
   "metadata": {},
   "outputs": [],
   "source": [
    "\n",
    "train_dataset = ImageFolder(root=\"Data/asl_alphabet_train/asl_alphabet_train\", transform=transform)\n",
    "test_dataset = ImageFolder(root=\"Data/asl_alphabet_test/asl_alphabet_test\", transform=transform)"
   ]
  },
  {
   "cell_type": "code",
   "execution_count": 5,
   "metadata": {},
   "outputs": [],
   "source": [
    "train_loader = DataLoader(train_dataset, batch_size=100, shuffle=True)\n",
    "test_loader = DataLoader(test_dataset, batch_size=29, shuffle=False)"
   ]
  },
  {
   "cell_type": "code",
   "execution_count": 6,
   "metadata": {},
   "outputs": [
    {
     "name": "stdout",
     "output_type": "stream",
     "text": [
      "Training samples: 87000, Test samples: 29\n"
     ]
    }
   ],
   "source": [
    "print(f\"Training samples: {len(train_dataset)}, Test samples: {len(test_dataset)}\")"
   ]
  },
  {
   "cell_type": "code",
   "execution_count": 18,
   "metadata": {},
   "outputs": [
    {
     "name": "stdout",
     "output_type": "stream",
     "text": [
      "x_train shape: (87000, 3, 32, 32), x_test shape: (29, 3, 32, 32)\n"
     ]
    }
   ],
   "source": [
    "import numpy as np\n",
    "import torch\n",
    "\n",
    "def extract_images(dataloader):\n",
    "    images = []\n",
    "    for batch in dataloader:\n",
    "        x_batch, _ = batch  \n",
    "        images.append(x_batch.numpy())  \n",
    "    return np.concatenate(images, axis=0)\n",
    "# Extract training and test images\n",
    "x_train = extract_images(train_loader)  \n",
    "x_test = extract_images(test_loader)    \n",
    "\n",
    "# Convert to float32 for compatibility with NumPy operations\n",
    "x_train = x_train.astype(np.int32)\n",
    "x_test = x_test.astype(np.int32)\n",
    "\n",
    "print(f\"x_train shape: {x_train.shape}, x_test shape: {x_test.shape}\")\n"
   ]
  },
  {
   "cell_type": "code",
   "execution_count": 23,
   "metadata": {},
   "outputs": [
    {
     "name": "stdout",
     "output_type": "stream",
     "text": [
      "Original shape: (10, 3, 32, 32)\n",
      "Flattened shape: (10, 3072)\n"
     ]
    }
   ],
   "source": [
    "B, I, H, W = 10, 3, 32, 32  \n",
    "x = np.random.rand(B, I, H, W) \n",
    "x_flattened = x.reshape(B, I * H * W)\n",
    "\n",
    "print(f\"Original shape: {x.shape}\")    \n",
    "print(f\"Flattened shape: {x_flattened.shape}\")  "
   ]
  },
  {
   "cell_type": "code",
   "execution_count": null,
   "metadata": {},
   "outputs": [],
   "source": [
    "class Reservoir(object):\n",
    "    def __init__(self,i_size,r_size,i_coef=1.0,r_coef=0.999,sparse=0.5,leak=0.5):\n",
    "        self.w_i = i_coef * np.random.uniform(-1,1,(r_size,i_size)).astype(np.float32)\n",
    "        self.w_r = np.random.uniform(-1,1,(r_size*r_size, )).astype(np.float32)\n",
    "        np.random.shuffle(self.w_r)\n",
    "        self.w_r = self.w_r.reshape(r_size,r_size)\n",
    "        self.w_r = self.w_r/max(abs(np.linalg.eig(self.w_r)[0])) * r_coef\n",
    "        self.w_r = np.array(self.w_r)\n",
    "\n",
    "        self.leak = leak\n",
    "\n",
    "    def reset(self,batch):\n",
    "        self.x = np.zeros((batch,self.w_r.shape[0]),dtype=np.float32)\n",
    "\n",
    "\n",
    "    def __call__(self,u):\n",
    "        if not u.shape[0] == self.x.shape[0]:\n",
    "            print(\"different batchsize\")\n",
    "            print(\"required:\",self.x.shape[0])\n",
    "            print(\"actual\",u.shape[0])\n",
    "        self.x = np.tanh((1-self.leak)*self.x+self.leak*(u.dot(self.w_i.T)+self.x.dot(self.w_r.T)),dtype=np.float32)\n",
    "        return self.x\n",
    "    \n",
    "    def reset_and_call(self,us):\n",
    "        self.reset(batch=us.shape[1])\n",
    "\n",
    "        for u in us:\n",
    "            x = self.__call__(u)\n",
    "        return copy.deepcopy(x)\n",
    "\n",
    "\n",
    "        "
   ]
  },
  {
   "cell_type": "code",
   "execution_count": null,
   "metadata": {},
   "outputs": [],
   "source": [
    "class ReservoirBasedConvolution2D(object):\n",
    "    def __init__(self,k_size,stride,padding,in_ch,num_reservoir,num_node,sparse,i_coef=1.0,r_coef=0.999):\n",
    "        leaks = np.linspace(0.1,0.9,num_reservoir)\n",
    "        self.res = [Reservoir(in_ch*k_size,num_node,sparse=sparse,leak=l,i_coef=i_coef,r_coef=r_coef) for l in leaks]\n",
    "        self.k_size = k_size\n",
    "        self.stride = stride\n",
    "        self.padding = padding\n",
    "\n",
    "    def __call__(self,x):\n",
    "        aois_h,num_row_h,num_col_h = self._image2aoisH(x,self.k_size,self.stride,self.padding)\n",
    "        aois_v,num_row_v,num_col_v = self._image2aoisV(x,self.k_size,self.stride,self.padding)\n",
    "        hs_h = []\n",
    "        for res in self.res:\n",
    "            h = res.reset_and_call(aois_h)\n",
    "            hs_h.append(h)\n",
    "\n",
    "        #(B*N,C)->(N,B,C) = (H*W,B,C)\n",
    "        hs_h = np.concatenate(hs_h,axis=1)\n",
    "        hs_h = hs_h.reshape(num_row_h*num_col_h,-1,hs_h.shape[1])\n",
    "\n",
    "        #conv 2 image: (H*W,B,C) -> (B,C,H*W)->(B,C,H,W)\n",
    "        images_h = np.array(hs_h)\n",
    "        images_h = np.rollaxis(images_h,0,3)\n",
    "        images_h = images_h.reshape(images_h.shape[0],images_h.shape[1],num_row_h,num_col_h)\n",
    "\n",
    "        hs_v = []\n",
    "        for res in self.res:\n",
    "            h = res.reset_and_call(aois_v)\n",
    "            hs_v.append(h)\n",
    "        \n",
    "        # (B*N,C)->(N,B,C) = (H*W,B,C)\n",
    "        hs_v = np.concatenate(hs_v,axis=1)\n",
    "        hs_v = hs_v.reshape(num_row_v*num_col_v,-1,hs_v.shape[1])\n",
    "\n",
    "        # convs 2 image: (H*W,B,C)\n",
    "        images_v = np.asarray(hs_v)\n",
    "        images_v = np.rollaxis(images_v, 0, 3)\n",
    "        images_v = images_v.reshape(images_v.shape[0], images_v.shape[1], num_row_v, num_col_v)\n",
    "\n",
    "        # (B, C, H, W) + (B, C, H, W) -> (B, 2C, H, W)\n",
    "        images = np.concatenate([images_h, images_v], axis=1)\n",
    "        return images\n",
    "    \n",
    "    def _image2aoisH(self, x, k_size, stride, padding):\n",
    "        # x (B, C, H, W)\n",
    "\n",
    "        # padding\n",
    "        x_pad = np.zeros((x.shape[0], x.shape[1], x.shape[2] + 2*padding, x.shape[3] + 2*padding), dtype=xp.float32)\n",
    "        x_pad[:, :, padding:padding + x.shape[2], padding:padding + x.shape[3]] = x\n",
    "\n",
    "        # areas of interest\n",
    "        aois = []\n",
    "        num_row = (x_pad.shape[2] - k_size) // stride + 1\n",
    "        num_col = (x_pad.shape[3] - k_size) // stride + 1\n",
    "        for h in range(0, x_pad.shape[2] - k_size + 1, stride):\n",
    "            for w in range(0, x_pad.shape[3] - k_size + 1, stride):\n",
    "                aoi = x_pad[:, :, h:h+k_size, w:w+k_size]\n",
    "\n",
    "                # (B, C, H, W) -> (H, B, C, W) -> (H, B, C*W) = (T, B, C*W)\n",
    "                aoi = np.rollaxis(aoi, 2, 0)\n",
    "                aoi = aoi.reshape(aoi.shape[0], aoi.shape[1], -1)\n",
    "\n",
    "                aois.append(aoi)\n",
    "\n",
    "        # (T, B*N, C*W)\n",
    "        aois = np.concatenate(aois, axis=1)\n",
    "        return aois, num_row, num_col\n",
    "\n",
    "\n",
    "    def _image2aoisV(self, x, k_size, stride, padding):\n",
    "        # x (B, C, H, W)\n",
    "\n",
    "        # padding\n",
    "        x_pad = np.zeros((x.shape[0], x.shape[1], x.shape[2] + 2*padding, x.shape[3] + 2*padding), dtype=xp.float32)\n",
    "        x_pad[:, :, padding:padding + x.shape[2], padding:padding + x.shape[3]] = x\n",
    "\n",
    "        # areas of interest\n",
    "        aois = []\n",
    "        num_row = (x_pad.shape[2] - k_size) // stride + 1\n",
    "        num_col = (x_pad.shape[3] - k_size) // stride + 1\n",
    "        for h in range(0, x_pad.shape[2] - k_size + 1, stride):\n",
    "            for w in range(0, x_pad.shape[3] - k_size + 1, stride):\n",
    "                aoi = x_pad[:, :, h:h+k_size, w:w+k_size]\n",
    "\n",
    "                # (B, C, H, W) -> (W, B, C, H) -> (W, B, C*H) = (T, B, C*H)\n",
    "                aoi = np.rollaxis(aoi, 3, 0)\n",
    "                aoi = aoi.reshape(aoi.shape[0], aoi.shape[1], -1)\n",
    "\n",
    "                aois.append(aoi)\n",
    "\n",
    "        # (T, B*N, C*H)\n",
    "        aois = np.concatenate(aois, axis=1)\n",
    "        return aois, num_row, num_col"
   ]
  },
  {
   "cell_type": "code",
   "execution_count": null,
   "metadata": {},
   "outputs": [],
   "source": [
    "def max_pool2d(x, k_size, stride, padding=0):\n",
    "    # padding\n",
    "    x_pad = np.zeros((x.shape[0], x.shape[1], x.shape[2] + 2*padding, x.shape[3] + 2*padding), dtype=xp.float32)\n",
    "    x_pad[:, :, padding:padding + x.shape[2], padding:padding + x.shape[3]] = x\n",
    "\n",
    "    # aois\n",
    "    aois = []\n",
    "    num_row = (x_pad.shape[2] - k_size) // stride + 1\n",
    "    num_col = (x_pad.shape[3] - k_size) // stride + 1\n",
    "    for h in range(0, x_pad.shape[2] - k_size + 1, stride):\n",
    "        for w in range(0, x_pad.shape[3] - k_size + 1, stride):\n",
    "            aoi = x_pad[:, :, h:h+k_size, w:w+k_size]\n",
    "            aoi = aoi.reshape(aoi.shape[0], aoi.shape[1], -1)\n",
    "            aois.append(aoi)\n",
    "\n",
    "    # pooling\n",
    "    aois = np.array(aois)\n",
    "    pools = np.max(aois, axis=3)\n",
    "\n",
    "    # (H*W, B, C) -> (B, C, H*W)\n",
    "    pools = np.array(pools)\n",
    "    pools = np.rollaxis(pools, 0, 3)\n",
    "    pools = pools.reshape(pools.shape[0], pools.shape[1], num_row, num_col)\n",
    "\n",
    "    return pools"
   ]
  },
  {
   "cell_type": "code",
   "execution_count": null,
   "metadata": {},
   "outputs": [],
   "source": [
    "def ridge_regression(x, t, norm=1.0):\n",
    "    array = x.T.dot(x)\n",
    "    array = array + norm * np.eye(x.shape[1])\n",
    "    array = np.linalg.inv(array)\n",
    "    array = array.dot(x.T)\n",
    "    array = array.dot(t)\n",
    "\n",
    "    return array.T"
   ]
  },
  {
   "cell_type": "code",
   "execution_count": null,
   "metadata": {},
   "outputs": [],
   "source": [
    "conv1 = ReservoirBasedConvolution2D(k_size=3, stride=1, padding=1, in_ch=3, num_reservoir=5, num_node=12, sparse=0.5)\n",
    "conv2 = ReservoirBasedConvolution2D(k_size=3, stride=1, padding=1, in_ch=120, num_reservoir=5, num_node=30, sparse=1.0)\n",
    "w_o = np.zeros((29, 7501), dtype=np.float32)"
   ]
  },
  {
   "cell_type": "code",
   "execution_count": null,
   "metadata": {},
   "outputs": [],
   "source": [
    "def forward(x):\n",
    "    h = conv1(x)\n",
    "    h = max_pool2d(h, k_size=2, stride=2)\n",
    "    h = conv2(h)\n",
    "    h = max_pool2d(h, k_size=2, stride=2)\n",
    "\n",
    "    h = h.reshape(h.shape[0], -1)\n",
    "    h_pad = np.ones((h.shape[0], h.shape[1] + 1), dtype=np.float32)\n",
    "    h_pad[:, 0:-1] = h\n",
    "\n",
    "    y = h_pad.dot(w_o.T)\n",
    "    return y, h_pad"
   ]
  },
  {
   "cell_type": "code",
   "execution_count": null,
   "metadata": {},
   "outputs": [],
   "source": []
  },
  {
   "cell_type": "markdown",
   "metadata": {},
   "source": []
  },
  {
   "cell_type": "code",
   "execution_count": null,
   "metadata": {},
   "outputs": [],
   "source": []
  },
  {
   "cell_type": "code",
   "execution_count": null,
   "metadata": {},
   "outputs": [],
   "source": []
  },
  {
   "cell_type": "code",
   "execution_count": null,
   "metadata": {},
   "outputs": [],
   "source": []
  }
 ],
 "metadata": {
  "kernelspec": {
   "display_name": "Python 3",
   "language": "python",
   "name": "python3"
  },
  "language_info": {
   "codemirror_mode": {
    "name": "ipython",
    "version": 3
   },
   "file_extension": ".py",
   "mimetype": "text/x-python",
   "name": "python",
   "nbconvert_exporter": "python",
   "pygments_lexer": "ipython3",
   "version": "3.11.9"
  }
 },
 "nbformat": 4,
 "nbformat_minor": 2
}
