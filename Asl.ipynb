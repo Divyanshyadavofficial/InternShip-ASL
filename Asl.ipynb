{
 "cells": [
  {
   "cell_type": "markdown",
   "metadata": {},
   "source": [
    "Data\n"
   ]
  },
  {
   "cell_type": "code",
   "execution_count": 1,
   "metadata": {},
   "outputs": [],
   "source": [
    "import numpy as np\n",
    "from tensorflow.keras.preprocessing.image import ImageDataGenerator\n",
    "from tensorflow.keras.utils import to_categorical\n",
    "import matplotlib.pyplot as plt\n"
   ]
  },
  {
   "cell_type": "code",
   "execution_count": 2,
   "metadata": {},
   "outputs": [],
   "source": [
    "train_datagen = ImageDataGenerator(rescale=1./255) \n",
    "test_datagen = ImageDataGenerator(rescale=1./255)"
   ]
  },
  {
   "cell_type": "code",
   "execution_count": 3,
   "metadata": {},
   "outputs": [
    {
     "name": "stdout",
     "output_type": "stream",
     "text": [
      "Found 87000 images belonging to 29 classes.\n"
     ]
    }
   ],
   "source": [
    "train_generator = train_datagen.flow_from_directory(\n",
    "    'Data/asl_alphabet_train/asl_alphabet_train',  \n",
    "    target_size=(32, 32), \n",
    "    batch_size=32,  \n",
    "    class_mode='categorical',  \n",
    "    shuffle=True\n",
    ")\n"
   ]
  },
  {
   "cell_type": "code",
   "execution_count": 4,
   "metadata": {},
   "outputs": [
    {
     "name": "stdout",
     "output_type": "stream",
     "text": [
      "Found 29 images belonging to 29 classes.\n"
     ]
    }
   ],
   "source": [
    "test_generator = test_datagen.flow_from_directory(\n",
    "    \"Data/asl_alphabet_test/asl_alphabet_test\",\n",
    "    target_size=(32,32),\n",
    "    batch_size=32,\n",
    "    class_mode='categorical',  \n",
    "    shuffle=False,\n",
    ")"
   ]
  },
  {
   "cell_type": "code",
   "execution_count": 5,
   "metadata": {},
   "outputs": [],
   "source": [
    "x_train, t_train = next(train_generator)"
   ]
  },
  {
   "cell_type": "code",
   "execution_count": 6,
   "metadata": {},
   "outputs": [],
   "source": [
    "x_test, t_test = next(test_generator)"
   ]
  },
  {
   "cell_type": "code",
   "execution_count": 14,
   "metadata": {},
   "outputs": [
    {
     "name": "stdout",
     "output_type": "stream",
     "text": [
      "(87000, 28, 28, 3) (87000, 29) (29, 32, 32, 3) (29, 29)\n"
     ]
    }
   ],
   "source": [
    "# Initialize empty lists to store the data\n",
    "x_train, t_train = [], []\n",
    "x_test, t_test = [], []\n",
    "\n",
    "# Load training data\n",
    "for x_batch, t_batch in train_generator:\n",
    "    x_train.append(x_batch)\n",
    "    t_train.append(t_batch)\n",
    "    if len(x_train) * train_generator.batch_size >= len(train_generator.classes):\n",
    "        break  # Exit when we've seen all images\n",
    "\n",
    "# Load testing data\n",
    "for x_batch, t_batch in test_generator:\n",
    "    x_test.append(x_batch)\n",
    "    t_test.append(t_batch)\n",
    "    if len(x_test) * test_generator.batch_size >= len(test_generator.classes):\n",
    "        break  # Exit when we've seen all images\n",
    "\n",
    "# Convert lists to numpy arrays\n",
    "x_train = np.concatenate(x_train, axis=0)\n",
    "t_train = np.concatenate(t_train, axis=0)\n",
    "x_test = np.concatenate(x_test, axis=0)\n",
    "t_test = np.concatenate(t_test, axis=0)\n",
    "\n",
    "# Print the shape of the data to confirm\n",
    "print(x_train.shape, t_train.shape, x_test.shape, t_test.shape)\n"
   ]
  },
  {
   "cell_type": "code",
   "execution_count": 17,
   "metadata": {},
   "outputs": [
    {
     "name": "stdout",
     "output_type": "stream",
     "text": [
      "(29,)\n",
      "float32\n",
      "[0. 0. 0. 0. 0. 0. 0. 0. 0. 0. 0. 0. 0. 0. 0. 0. 0. 0. 0. 0. 0. 0. 0. 1.\n",
      " 0. 0. 0. 0. 0.]\n"
     ]
    },
    {
     "data": {
      "image/png": "[encoded data removed]",
      "text/plain": [
       "<Figure size 640x480 with 2 Axes>"
      ]
     },
     "metadata": {},
     "output_type": "display_data"
    }
   ],
   "source": [
    "# mnist, fashion mnist\n",
    "print(t_train[0].shape)\n",
    "print(t_train[0].dtype)\n",
    "print(t_train[0])\n",
    "\n",
    "plt.imshow(x_train[0], cmap='Greys_r')\n",
    "plt.colorbar()\n",
    "plt.show()\n"
   ]
  },
  {
   "cell_type": "code",
   "execution_count": null,
   "metadata": {},
   "outputs": [],
   "source": [
    "class Reservoir(object):\n",
    "    def __init__(self,i_size,r_size,i_coef=1.0,r_coef=0.999,sparse=0.5,leak=0.5):\n",
    "        self.w_i = i_coef * np.random.uniform(-1,1,(r_size,i_size)).astype(np.float32)\n",
    "        self.w_r = np.random.uniform(-1,1,(r_size*r_size, )).astype(np.float32)\n",
    "        np.random.shuffle(self.w_r)\n",
    "        self.w_r = self.w_r.reshape(r_size,r_size)\n",
    "        self.w_r = self.w_r/max(abs(np.linalg.eig(self.w_r)[0])) * r_coef\n",
    "        self.w_r = np.array(self.w_r)\n",
    "\n",
    "        self.leak = leak\n",
    "\n",
    "    def reset(self,batch):\n",
    "        self.x = np.zeros((batch,self.w_r.shape[0]),dtype=np.float32)\n",
    "\n",
    "\n",
    "    def __call__(self,u):\n",
    "        if not u.shape[0] == self.x.shape[0]:\n",
    "            print(\"different batchsize\")\n",
    "            print(\"required:\",self.x.shape[0])\n",
    "            print(\"actual\",u.shape[0])\n",
    "        self.x = np.tanh((1-self.leak)*self.x+self.leak*(u.dot(self.w_i.T)+self.x.dot(self.w_r.T)),dtype=np.float32)\n",
    "        return self.x\n",
    "    \n",
    "    def reset_and_call(self,us):\n",
    "        self.reset(batch=us.shape[1])\n",
    "\n",
    "        for u in us:\n",
    "            x = self.__call__(u)\n",
    "        return copy.deepcopy(x)\n",
    "\n",
    "\n",
    "        "
   ]
  },
  {
   "cell_type": "code",
   "execution_count": null,
   "metadata": {},
   "outputs": [],
   "source": [
    "class ReservoirBasedConvolution2D(object):\n",
    "    def __init__(self,k_size,stride,padding,in_ch,num_reservoir,num_node,sparse,i_coef=1.0,r_coef=0.999):\n",
    "        leaks = np.linspace(0.1,0.9,num_reservoir)\n",
    "        self.res = [Reservoir(in_ch*k_size,num_node,sparse=sparse,leak=l,i_coef=i_coef,r_coef=r_coef) for l in leaks]\n",
    "        self.k_size = k_size\n",
    "        self.stride = stride\n",
    "        self.padding = padding\n",
    "\n",
    "    def __call__(self,x):\n",
    "        aois_h,num_row_h,num_col_h = self._image2aoisH(x,self.k_size,self.stride,self.padding)\n",
    "        aois_v,num_row_v,num_col_v = self._image2aoisV(x,self.k_size,self.stride,self.padding)\n",
    "        hs_h = []\n",
    "        for res in self.res:\n",
    "            h = res.reset_and_call(aois_h)\n",
    "            hs_h.append(h)\n",
    "\n",
    "        #(B*N,C)->(N,B,C) = (H*W,B,C)\n",
    "        hs_h = np.concatenate(hs_h,axis=1)\n",
    "        hs_h = hs_h.reshape(num_row_h*num_col_h,-1,hs_h.shape[1])\n",
    "\n",
    "        #conv 2 image: (H*W,B,C) -> (B,C,H*W)->(B,C,H,W)\n",
    "        images_h = np.array(hs_h)\n",
    "        images_h = np.rollaxis(images_h,0,3)\n",
    "        images_h = images_h.reshape(images_h.shape[0],images_h.shape[1],num_row_h,num_col_h)\n",
    "\n",
    "        hs_v = []\n",
    "        for res in self.res:\n",
    "            h = res.reset_and_call(aois_v)\n",
    "            hs_v.append(h)\n",
    "        \n",
    "        # (B*N,C)->(N,B,C) = (H*W,B,C)\n",
    "        hs_v = np.concatenate(hs_v,axis=1)\n",
    "        hs_v = hs_v.reshape(num_row_v*num_col_v,-1,hs_v.shape[1])\n",
    "\n",
    "        # convs 2 image: (H*W,B,C)\n",
    "        images_v = np.asarray(hs_v)\n",
    "        images_v = np.rollaxis(images_v, 0, 3)\n",
    "        images_v = images_v.reshape(images_v.shape[0], images_v.shape[1], num_row_v, num_col_v)\n",
    "\n",
    "        # (B, C, H, W) + (B, C, H, W) -> (B, 2C, H, W)\n",
    "        images = np.concatenate([images_h, images_v], axis=1)\n",
    "        return images\n",
    "    \n",
    "    def _image2aoisH(self, x, k_size, stride, padding):\n",
    "        # x (B, C, H, W)\n",
    "\n",
    "        # padding\n",
    "        x_pad = np.zeros((x.shape[0], x.shape[1], x.shape[2] + 2*padding, x.shape[3] + 2*padding), dtype=xp.float32)\n",
    "        x_pad[:, :, padding:padding + x.shape[2], padding:padding + x.shape[3]] = x\n",
    "\n",
    "        # areas of interest\n",
    "        aois = []\n",
    "        num_row = (x_pad.shape[2] - k_size) // stride + 1\n",
    "        num_col = (x_pad.shape[3] - k_size) // stride + 1\n",
    "        for h in range(0, x_pad.shape[2] - k_size + 1, stride):\n",
    "            for w in range(0, x_pad.shape[3] - k_size + 1, stride):\n",
    "                aoi = x_pad[:, :, h:h+k_size, w:w+k_size]\n",
    "\n",
    "                # (B, C, H, W) -> (H, B, C, W) -> (H, B, C*W) = (T, B, C*W)\n",
    "                aoi = np.rollaxis(aoi, 2, 0)\n",
    "                aoi = aoi.reshape(aoi.shape[0], aoi.shape[1], -1)\n",
    "\n",
    "                aois.append(aoi)\n",
    "\n",
    "        # (T, B*N, C*W)\n",
    "        aois = np.concatenate(aois, axis=1)\n",
    "        return aois, num_row, num_col\n",
    "\n",
    "\n",
    "    def _image2aoisV(self, x, k_size, stride, padding):\n",
    "        # x (B, C, H, W)\n",
    "\n",
    "        # padding\n",
    "        x_pad = np.zeros((x.shape[0], x.shape[1], x.shape[2] + 2*padding, x.shape[3] + 2*padding), dtype=xp.float32)\n",
    "        x_pad[:, :, padding:padding + x.shape[2], padding:padding + x.shape[3]] = x\n",
    "\n",
    "        # areas of interest\n",
    "        aois = []\n",
    "        num_row = (x_pad.shape[2] - k_size) // stride + 1\n",
    "        num_col = (x_pad.shape[3] - k_size) // stride + 1\n",
    "        for h in range(0, x_pad.shape[2] - k_size + 1, stride):\n",
    "            for w in range(0, x_pad.shape[3] - k_size + 1, stride):\n",
    "                aoi = x_pad[:, :, h:h+k_size, w:w+k_size]\n",
    "\n",
    "                # (B, C, H, W) -> (W, B, C, H) -> (W, B, C*H) = (T, B, C*H)\n",
    "                aoi = np.rollaxis(aoi, 3, 0)\n",
    "                aoi = aoi.reshape(aoi.shape[0], aoi.shape[1], -1)\n",
    "\n",
    "                aois.append(aoi)\n",
    "\n",
    "        # (T, B*N, C*H)\n",
    "        aois = np.concatenate(aois, axis=1)\n",
    "        return aois, num_row, num_col"
   ]
  },
  {
   "cell_type": "code",
   "execution_count": null,
   "metadata": {},
   "outputs": [],
   "source": [
    "def max_pool2d(x, k_size, stride, padding=0):\n",
    "    # padding\n",
    "    x_pad = np.zeros((x.shape[0], x.shape[1], x.shape[2] + 2*padding, x.shape[3] + 2*padding), dtype=xp.float32)\n",
    "    x_pad[:, :, padding:padding + x.shape[2], padding:padding + x.shape[3]] = x\n",
    "\n",
    "    # aois\n",
    "    aois = []\n",
    "    num_row = (x_pad.shape[2] - k_size) // stride + 1\n",
    "    num_col = (x_pad.shape[3] - k_size) // stride + 1\n",
    "    for h in range(0, x_pad.shape[2] - k_size + 1, stride):\n",
    "        for w in range(0, x_pad.shape[3] - k_size + 1, stride):\n",
    "            aoi = x_pad[:, :, h:h+k_size, w:w+k_size]\n",
    "            aoi = aoi.reshape(aoi.shape[0], aoi.shape[1], -1)\n",
    "            aois.append(aoi)\n",
    "\n",
    "    # pooling\n",
    "    aois = np.array(aois)\n",
    "    pools = np.max(aois, axis=3)\n",
    "\n",
    "    # (H*W, B, C) -> (B, C, H*W)\n",
    "    pools = np.array(pools)\n",
    "    pools = np.rollaxis(pools, 0, 3)\n",
    "    pools = pools.reshape(pools.shape[0], pools.shape[1], num_row, num_col)\n",
    "\n",
    "    return pools"
   ]
  },
  {
   "cell_type": "code",
   "execution_count": null,
   "metadata": {},
   "outputs": [],
   "source": [
    "def ridge_regression(x, t, norm=1.0):\n",
    "    array = x.T.dot(x)\n",
    "    array = array + norm * np.eye(x.shape[1])\n",
    "    array = np.linalg.inv(array)\n",
    "    array = array.dot(x.T)\n",
    "    array = array.dot(t)\n",
    "\n",
    "    return array.T"
   ]
  },
  {
   "cell_type": "code",
   "execution_count": null,
   "metadata": {},
   "outputs": [],
   "source": [
    "conv1 = ReservoirBasedConvolution2D(k_size=3, stride=1, padding=0, in_ch=3, num_reservoir=5, num_node=12, sparse=0.5)\n",
    "conv2 = ReservoirBasedConvolution2D(k_size=3, stride=1, padding=0, in_ch=120, num_reservoir=5, num_node=30, sparse=1.0)\n",
    "w_o = np.zeros((10, 7501), dtype=np.float32)"
   ]
  },
  {
   "cell_type": "code",
   "execution_count": null,
   "metadata": {},
   "outputs": [],
   "source": [
    "def forward(x):\n",
    "    h = conv1(x)\n",
    "    h = max_pool2d(h, k_size=2, stride=2)\n",
    "    h = conv2(h)\n",
    "    h = max_pool2d(h, k_size=2, stride=2)\n",
    "\n",
    "    h = h.reshape(h.shape[0], -1)\n",
    "    h_pad = np.ones((h.shape[0], h.shape[1] + 1), dtype=np.float32)\n",
    "    h_pad[:, 0:-1] = h\n",
    "\n",
    "    y = h_pad.dot(w_o.T)\n",
    "    return y, h_pad"
   ]
  },
  {
   "cell_type": "code",
   "execution_count": null,
   "metadata": {},
   "outputs": [],
   "source": []
  },
  {
   "cell_type": "markdown",
   "metadata": {},
   "source": []
  },
  {
   "cell_type": "code",
   "execution_count": null,
   "metadata": {},
   "outputs": [],
   "source": []
  },
  {
   "cell_type": "code",
   "execution_count": null,
   "metadata": {},
   "outputs": [],
   "source": []
  },
  {
   "cell_type": "code",
   "execution_count": null,
   "metadata": {},
   "outputs": [],
   "source": []
  }
 ],
 "metadata": {
  "kernelspec": {
   "display_name": "Python 3",
   "language": "python",
   "name": "python3"
  },
  "language_info": {
   "codemirror_mode": {
    "name": "ipython",
    "version": 3
   },
   "file_extension": ".py",
   "mimetype": "text/x-python",
   "name": "python",
   "nbconvert_exporter": "python",
   "pygments_lexer": "ipython3",
   "version": "3.11.9"
  }
 },
 "nbformat": 4,
 "nbformat_minor": 2
}
